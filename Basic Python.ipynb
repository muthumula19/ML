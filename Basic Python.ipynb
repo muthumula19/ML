{
 "cells": [
  {
   "cell_type": "code",
   "execution_count": 20,
   "metadata": {},
   "outputs": [
    {
     "name": "stdout",
     "output_type": "stream",
     "text": [
      "Enter a number: 9\n",
      "9 * 1 = 9\n",
      "9 * 2 = 18\n",
      "9 * 3 = 27\n",
      "9 * 4 = 36\n",
      "9 * 5 = 45\n",
      "9 * 6 = 54\n",
      "9 * 7 = 63\n",
      "9 * 8 = 72\n",
      "9 * 9 = 81\n",
      "9 * 10 = 90\n"
     ]
    }
   ],
   "source": [
    "'1.writing a table for given number'\n",
    "n=int(input('Enter a number: '))\n",
    "for x in range(1,11):    #range is built in function in python gives values in given range\n",
    "    if x<0:\n",
    "        raise Exception('Enter positive number')\n",
    "    else:\n",
    "        print('{} * {} = {}'.format(n,x,n*x))"
   ]
  },
  {
   "cell_type": "code",
   "execution_count": 21,
   "metadata": {},
   "outputs": [
    {
     "name": "stdout",
     "output_type": "stream",
     "text": [
      "Twin prime numbers: [(3, 5), (5, 7), (11, 13), (17, 19), (27, 29), (29, 31), (35, 37), (41, 43), (51, 53), (57, 59), (59, 61), (65, 67), (71, 73), (77, 79), (87, 89), (101, 103), (107, 109), (125, 127), (135, 137), (137, 139), (147, 149), (149, 151), (155, 157), (161, 163), (171, 173), (177, 179), (179, 181), (189, 191), (191, 193), (197, 199), (227, 229), (237, 239), (239, 241), (249, 251), (255, 257), (261, 263), (267, 269), (269, 271), (275, 277), (281, 283), (291, 293), (305, 307), (311, 313), (329, 331), (335, 337), (345, 347), (347, 349), (357, 359), (371, 373), (377, 379), (387, 389), (417, 419), (419, 421), (429, 431), (431, 433), (437, 439), (447, 449), (461, 463), (507, 509), (521, 523), (539, 541), (545, 547), (555, 557), (561, 563), (567, 569), (569, 571), (575, 577), (585, 587), (591, 593), (597, 599), (599, 601), (605, 607), (611, 613), (617, 619), (639, 641), (641, 643), (651, 653), (657, 659), (659, 661), (681, 683), (699, 701), (717, 719), (731, 733), (737, 739), (755, 757), (785, 787), (795, 797), (809, 811), (819, 821), (821, 823), (827, 829), (837, 839), (851, 853), (857, 859), (875, 877), (881, 883), (927, 929), (945, 947), (951, 953), (965, 967), (975, 977), (981, 983), (995, 997)]\n"
     ]
    }
   ],
   "source": [
    "'2.Twin primes ex:[(3, 5), (5, 7), (11, 13)....] below 1000'\n",
    "x=[]\n",
    "for n in range(3,1000,2):\n",
    "    x.append(n)\n",
    "#print('odd numbers:',x) ;here we will get odd numbers\n",
    "for y in x:\n",
    "    i=x.index(y) #It gives index of value \n",
    "    if i>2:\n",
    "        for p in range(int(i/2)):\n",
    "            if y%x[p]==0:\n",
    "                x.remove(y) # it remove value from list\n",
    "                break\n",
    "#print('prime numbers:'x) ;Here we will get prime numbers\n",
    "twin_prime=[(x[i],x[i+1]) for i in range (len(x)-1) if x[i+1]-x[i]==2]\n",
    "print('Twin prime numbers:',twin_prime) # twin prime numbers"
   ]
  },
  {
   "cell_type": "code",
   "execution_count": 22,
   "metadata": {},
   "outputs": [
    {
     "name": "stdout",
     "output_type": "stream",
     "text": [
      "Enter a number: 28\n",
      "[2, 2, 7]\n"
     ]
    }
   ],
   "source": [
    "'3.To find prime factors of a given number'\n",
    "x=int(input('Enter a number: '))\n",
    "l=[]\n",
    "while(x>1):\n",
    "    for i in range(2,x+1):\n",
    "        t=list(divmod(x,i)) #divmod built in function it gives coff and remainder\n",
    "        if t[0]==1 and t[1]==0:\n",
    "            l.append(x)\n",
    "            x=t[0]\n",
    "            break\n",
    "        elif t[1]==0:\n",
    "            l.append(i)\n",
    "            x=t[0]\n",
    "            break\n",
    "print(l)\n",
    "    "
   ]
  },
  {
   "cell_type": "code",
   "execution_count": 23,
   "metadata": {},
   "outputs": [
    {
     "name": "stdout",
     "output_type": "stream",
     "text": [
      "Enter N value8\n",
      "Enter R value3\n",
      "P(8,3)= 336.0\n",
      "C(8,3)= 56.0\n"
     ]
    }
   ],
   "source": [
    "'4.Permitations and Combinations of n objects taken r at a time'\n",
    "def fact(x):      #factorial function ex:5! it returns value 120\n",
    "    return 1 if x==1 else x*fact(x-1)\n",
    "#Permetaions\n",
    "n=int(input('Enter N value'))\n",
    "r=int(input('Enter R value'))\n",
    "p=fact(n)/fact(n-r)   #P(n,r)=n!/(n-r)!\n",
    "print('P({0},{1})= {2}'.format(n,r,p))\n",
    "c=fact(n)/(fact(r)*fact(n-r))  #C(n,r)=n!/(r!(n-r)!)\n",
    "print('C({0},{1})= {2}'.format(n,r,c))"
   ]
  },
  {
   "cell_type": "code",
   "execution_count": 25,
   "metadata": {},
   "outputs": [
    {
     "name": "stdout",
     "output_type": "stream",
     "text": [
      "Enter nuber to covert Binary: 8\n",
      "[1, 0, 0, 0]\n"
     ]
    }
   ],
   "source": [
    "'5.Function to conver Decimal number to binary'\n",
    "\n",
    "def dec_bin(x):\n",
    "    l=[]\n",
    "    while(x>1):\n",
    "        t=list(divmod(x,2))\n",
    "        x=t[0]\n",
    "        if t[0]==1:\n",
    "            l.append(t[1])\n",
    "            l.append(1)\n",
    "        else:\n",
    "            l.append(t[1])\n",
    "    l.reverse()\n",
    "    print(l)\n",
    "N=int(input('Enter nuber to covert Binary: '))\n",
    "dec_bin(N)"
   ]
  },
  {
   "cell_type": "code",
   "execution_count": 27,
   "metadata": {},
   "outputs": [
    {
     "name": "stdout",
     "output_type": "stream",
     "text": [
      "Enter higher range value: 1000\n",
      "1\n",
      "153\n",
      "370\n",
      "371\n",
      "407\n"
     ]
    }
   ],
   "source": [
    "'6.function to find Cubesum of given numbers'\n",
    "def cub_sum(x):\n",
    "    y=0\n",
    "    for t in x:\n",
    "        y=y+t*t*t\n",
    "    return y\n",
    "'Functon to find Amstrong numbers in given range'\n",
    "N=int(input('Enter higher range value: '))\n",
    "for x in range(1,N):\n",
    "    l=[int(t) for t in str(x)]  #convert number into digits ex:125 --> [1,2,5]\n",
    "    p=cub_sum(l)\n",
    "    if p==x:\n",
    "        print(x)\n",
    "    "
   ]
  },
  {
   "cell_type": "code",
   "execution_count": 28,
   "metadata": {},
   "outputs": [
    {
     "name": "stdout",
     "output_type": "stream",
     "text": [
      "enter number: 125\n"
     ]
    },
    {
     "data": {
      "text/plain": [
       "10"
      ]
     },
     "execution_count": 28,
     "metadata": {},
     "output_type": "execute_result"
    }
   ],
   "source": [
    "'7.Function for given nuber it gives product of digits'\n",
    "from functools import reduce\n",
    "def prodDigits(x):\n",
    "    l=[int(t) for t in str(x)]   #convert number into digits ex:125 --> [1,2,5]\n",
    "    def mul(x,y):                # mul is funtion it returns multiplicton of x,y\n",
    "        return x*y\n",
    "    return reduce(mul,l)         #reduce used for rolling competation\n",
    "N=int(input('enter number: '))\n",
    "prodDigits(N)"
   ]
  },
  {
   "cell_type": "code",
   "execution_count": 29,
   "metadata": {},
   "outputs": [
    {
     "name": "stdout",
     "output_type": "stream",
     "text": [
      "enter number: 46\n",
      "MDR:  ([46, 24, 8], 8)\n",
      "MPersistance:  2\n"
     ]
    }
   ],
   "source": [
    "'8.Functins To find multiplicative digital root(MDR) and  multiplicative persistance of number'\n",
    "'''Example: 86 -> 48 -> 32 -> 6 (MDR 6, MPersistence 3)\n",
    "            341 -> 12->2        (MDR 2, MPersistence 2)\n",
    "'''\n",
    "from functools import reduce\n",
    "def prodDigits(x):               # To find product of digits\n",
    "    l=[int(t) for t in str(x)]   #convert number into digits ex:125 --> [1,2,5]\n",
    "    def mul(x,y):                # mul is funtion it returns multiplicton of x,y\n",
    "        return x*y\n",
    "    return reduce(mul,l)         #reduce used for rolling competation\n",
    "def MDR(n):                      #Function to fund multiplicative digital root(MDR) \n",
    "    l=[]\n",
    "    l.append(n)\n",
    "    for i in range(n):\n",
    "        n=prodDigits(n)\n",
    "        l.append(n)\n",
    "        if n<10:\n",
    "            break\n",
    "    return l,n\n",
    "def MPersistance(n):            #Function to find multiplicative persistance\n",
    "    l=list(MDR(n))\n",
    "    return len(l[0])-1\n",
    "N=int(input('enter number: '))\n",
    "print( 'MDR: ',MDR(N))\n",
    "print( 'MPersistance: ',MPersistance(N))"
   ]
  },
  {
   "cell_type": "code",
   "execution_count": 30,
   "metadata": {},
   "outputs": [
    {
     "name": "stdout",
     "output_type": "stream",
     "text": [
      "Enter a number56\n",
      "Proper divsors:  [1, 2, 4, 7, 8, 14, 28]\n",
      "sum of proper divisors of 56 is 64\n"
     ]
    }
   ],
   "source": [
    "'9.Function to finds the sum of proper divisors of a number'\n",
    "'Ex:36-->[1, 2, 3, 4, 6, 9, 18]=55'\n",
    "def sumPdivisors(n):\n",
    "    x=0\n",
    "    l=[]\n",
    "    for i in range(1,n):\n",
    "        if n%i==0:\n",
    "            x=x+i\n",
    "            l.append(i)\n",
    "    print('Proper divsors: ',l)\n",
    "    return x\n",
    "N=int(input('Enter a number'))\n",
    "print('sum of proper divisors of {} is'.format(N),sumPdivisors(N))"
   ]
  },
  {
   "cell_type": "code",
   "execution_count": 31,
   "metadata": {},
   "outputs": [
    {
     "name": "stdout",
     "output_type": "stream",
     "text": [
      "Enter a number: 1000\n",
      "Perfect numbers are:  [6, 28, 496]\n"
     ]
    }
   ],
   "source": [
    "'10.Function to find perfect numbers in given range'\n",
    "'Ex: 28 proper divsor sum --> 1+2+4+7+14=28'\n",
    "def pfn(n):\n",
    "    l=[]\n",
    "    for i in range(2,n):\n",
    "        x=0\n",
    "        for j in range(1,int(i/2)+1):\n",
    "            if i%j==0:\n",
    "                x=x+j\n",
    "        if i==x:\n",
    "            l.append(x)\n",
    "    return l\n",
    "N=int(input('Enter a number: '))\n",
    "print('Perfect numbers are: ',pfn(N))"
   ]
  },
  {
   "cell_type": "code",
   "execution_count": 32,
   "metadata": {},
   "outputs": [
    {
     "name": "stdout",
     "output_type": "stream",
     "text": [
      "Enter a number: 3000\n",
      "220 284\n",
      "284 220\n",
      "1184 1210\n",
      "1210 1184\n",
      "2620 2924\n",
      "2924 2620\n"
     ]
    }
   ],
   "source": [
    "'11.Function to find amicable numbers in given range'\n",
    "'''Ex: Sum of proper divisors of 220 = 1+2+4+5+10+11+20+22+44+55+110 = 284\n",
    "       Sum of proper divisors of 284 = 1+2+4+71+142 = 220\n",
    "'''\n",
    "def amicable(n):\n",
    "    for i in range(2,n):\n",
    "        x=0\n",
    "        for j in range(1,int(i/2)+1):\n",
    "            if i%j==0:\n",
    "                x=x+j\n",
    "        y=0\n",
    "        for k in range(1,int(x/2)+1):\n",
    "            if x%k==0:\n",
    "                y=y+k\n",
    "        if i==y and x!=y:\n",
    "            s=print(y,x)\n",
    "    return s\n",
    "N=int(input('Enter a number: '))\n",
    "amicable(N)"
   ]
  },
  {
   "cell_type": "code",
   "execution_count": 33,
   "metadata": {},
   "outputs": [
    {
     "name": "stdout",
     "output_type": "stream",
     "text": [
      "[1, 3, 5, 7, 9, 11, 13, 15, 17, 19]\n"
     ]
    }
   ],
   "source": [
    "'12.To find odd numbers in given list using filter'\n",
    "def odd_num(l):                   #Function to Find given number is odd or not\n",
    "    if l%2!=0:\n",
    "        return l\n",
    "p=range(1,20)\n",
    "odd=list(filter(odd_num , p))     #filter bulit in function in python3\n",
    "print(odd)"
   ]
  },
  {
   "cell_type": "code",
   "execution_count": 34,
   "metadata": {},
   "outputs": [
    {
     "name": "stdout",
     "output_type": "stream",
     "text": [
      "[1, 8, 27, 64, 125, 216, 343, 512, 729, 1000, 1331, 1728, 2197, 2744, 3375, 4096, 4913, 5832, 6859]\n"
     ]
    }
   ],
   "source": [
    "'13.Cube of each element in list by using map'\n",
    "def cube(x):                      #function to make cube of a number\n",
    "    return x**3\n",
    "p=range(1,20)\n",
    "cube_list=list(map(cube,p))\n",
    "print(cube_list)"
   ]
  },
  {
   "cell_type": "code",
   "execution_count": 35,
   "metadata": {},
   "outputs": [
    {
     "name": "stdout",
     "output_type": "stream",
     "text": [
      "Even nubers in given list:  [2, 4, 6, 8, 10, 12, 14, 16, 18]\n",
      "Cube of even numbers in list:  [8, 64, 216, 512, 1000, 1728, 2744, 4096, 5832]\n"
     ]
    }
   ],
   "source": [
    "'14.Cube of even nubers in list by using map and filter '\n",
    "def even_num(l):                   #Function to Find given number is even or not\n",
    "    if l%2==0:\n",
    "        return l\n",
    "def cube(x):                      #function to make cube of a number\n",
    "    return x**3\n",
    "p=range(1,20)\n",
    "even=list(filter(even_num,p))\n",
    "print('Even nubers in given list: ', even)\n",
    "even_cube=list(map(cube,even))\n",
    "print('Cube of even numbers in list: ',even_cube)"
   ]
  },
  {
   "cell_type": "code",
   "execution_count": null,
   "metadata": {},
   "outputs": [],
   "source": []
  },
  {
   "cell_type": "code",
   "execution_count": null,
   "metadata": {},
   "outputs": [],
   "source": []
  },
  {
   "cell_type": "code",
   "execution_count": null,
   "metadata": {},
   "outputs": [],
   "source": []
  }
 ],
 "metadata": {
  "kernelspec": {
   "display_name": "Python 3",
   "language": "python",
   "name": "python3"
  },
  "language_info": {
   "codemirror_mode": {
    "name": "ipython",
    "version": 3
   },
   "file_extension": ".py",
   "mimetype": "text/x-python",
   "name": "python",
   "nbconvert_exporter": "python",
   "pygments_lexer": "ipython3",
   "version": "3.7.4"
  }
 },
 "nbformat": 4,
 "nbformat_minor": 2
}
